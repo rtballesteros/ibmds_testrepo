{
 "cells": [
  {
   "cell_type": "markdown",
   "id": "d3558e0e-5f88-4a64-affb-254c06e113a1",
   "metadata": {},
   "source": [
    "# Data Science Tools and Ecosystem"
   ]
  },
  {
   "cell_type": "markdown",
   "id": "c78bb73d-4b58-4386-91ad-8e01b0492b3c",
   "metadata": {},
   "source": [
    "## Author\n",
    "\n",
    "Richmond Ballesteros"
   ]
  },
  {
   "cell_type": "markdown",
   "id": "c00998d2-b5eb-4ed6-bb6f-a7f6cc25892a",
   "metadata": {},
   "source": [
    "In this notebook, Data Science Tools and Ecosystem are summarized."
   ]
  },
  {
   "cell_type": "markdown",
   "id": "8cb10dc5-6b2b-4d90-99f5-982d94b9b044",
   "metadata": {},
   "source": [
    "__Objectives:__\n",
    "- To learn how to collect, manipulate, and visualize data \n",
    "- To learn how to create prediction models such as regression models\n",
    "- To learn how to craft a story using data"
   ]
  },
  {
   "cell_type": "markdown",
   "id": "a88dab30-8a89-4a53-b808-16a89eb8f78f",
   "metadata": {},
   "source": [
    "Some of the popular languages that Data Scientists use are:"
   ]
  },
  {
   "cell_type": "markdown",
   "id": "9af06da9-1b13-48a0-a4e9-bad14b586943",
   "metadata": {},
   "source": [
    "1. Python\n",
    "2. R\n",
    "3. SQL"
   ]
  },
  {
   "cell_type": "markdown",
   "id": "900d0b97-5bdc-4ac5-b58c-4659e391dc37",
   "metadata": {},
   "source": [
    "|Data Science Tools|\n",
    "|------------------|\n",
    "|Jupyter Notebook|\n",
    "|TensorFlow|\n",
    "|Apache Hadoop|\n"
   ]
  },
  {
   "cell_type": "markdown",
   "id": "26510c32-2956-4aaf-9708-7d8cdac4115e",
   "metadata": {},
   "source": [
    "### Below are a few examples of evaluating arithmetic expressions in Python"
   ]
  },
  {
   "cell_type": "code",
   "execution_count": 2,
   "id": "11ef35be-e261-4ffd-a5ce-849de5479945",
   "metadata": {},
   "outputs": [
    {
     "data": {
      "text/plain": [
       "17"
      ]
     },
     "execution_count": 2,
     "metadata": {},
     "output_type": "execute_result"
    }
   ],
   "source": [
    "# This is a simple arithmetic expression to multiply then add integers\n",
    "\n",
    "(3*4)+5"
   ]
  },
  {
   "cell_type": "code",
   "execution_count": 3,
   "id": "9ec1a6be-e2b1-473f-aa25-ca63d6f155cf",
   "metadata": {},
   "outputs": [
    {
     "data": {
      "text/plain": [
       "3.3333333333333335"
      ]
     },
     "execution_count": 3,
     "metadata": {},
     "output_type": "execute_result"
    }
   ],
   "source": [
    "# This will convert 200 minutes to hours by dividing by 60\n",
    "\n",
    "200/60"
   ]
  }
 ],
 "metadata": {
  "kernelspec": {
   "display_name": "Python 3 (ipykernel)",
   "language": "python",
   "name": "python3"
  },
  "language_info": {
   "codemirror_mode": {
    "name": "ipython",
    "version": 3
   },
   "file_extension": ".py",
   "mimetype": "text/x-python",
   "name": "python",
   "nbconvert_exporter": "python",
   "pygments_lexer": "ipython3",
   "version": "3.9.12"
  }
 },
 "nbformat": 4,
 "nbformat_minor": 5
}
